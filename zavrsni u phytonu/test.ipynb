{
 "cells": [
  {
   "cell_type": "code",
   "execution_count": 1,
   "metadata": {},
   "outputs": [
    {
     "name": "stdout",
     "output_type": "stream",
     "text": [
      "\n",
      "Novi dan: 2023-12-22\n",
      "\n",
      "\n",
      "Novi dan: 2023-12-22\n",
      "\n",
      "\n",
      "Novi dan: 2023-12-22\n",
      "\n",
      "\n",
      "Novi dan: 2023-12-22\n",
      "\n"
     ]
    }
   ],
   "source": [
    "import requests\n",
    "from datetime import datetime, timedelta\n",
    "import time\n",
    "\n",
    "def get_hourly_energy_data():\n",
    "    api_key = 'abd79c512df344da80c500911fd874fe'\n",
    "    api_url = 'https://api.weatherbit.io/v2.0/forecast/energy'\n",
    "\n",
    "    # Postavljanje trenutnog vremena na 00:00:00\n",
    "    current_datetime = datetime.now()\n",
    "    current_day_start = datetime(current_datetime.year, current_datetime.month, current_datetime.day, 20, 0, 0)\n",
    "\n",
    "    # Parametri zahteva\n",
    "    params = {\n",
    "        'city': 'Sarajevo',\n",
    "        'country': 'BA',\n",
    "        'key': api_key,\n",
    "        'hours': 24,  # Broj sati unazad od trenutnog vremena\n",
    "    }\n",
    "\n",
    "    try:\n",
    "        response = requests.get(api_url, params=params)\n",
    "\n",
    "        # Provera da li je zahtev uspešan (HTTP status kod 200)\n",
    "        if response.status_code == 200:\n",
    "            data = response.json()\n",
    "            \n",
    "            # Filtriranje satnih podataka samo za trenutni dan\n",
    "            hourly_data_today = [hour_data for hour_data in data['data'] if parse_datetime(hour_data.get('datetime', '')) >= current_day_start]\n",
    "            \n",
    "            # Rad sa filtriranim podacima\n",
    "            for hour_data in hourly_data_today:\n",
    "                time = parse_datetime(hour_data.get('datetime', '')).strftime('%H:%M:%S')\n",
    "                \n",
    "                # Ispis svih dostupnih parametara\n",
    "                for key, value in hour_data.items():\n",
    "                    print(f\"{key}: {value}\")\n",
    "\n",
    "                print(\"\\n\" + \"-\"*40 + \"\\n\")\n",
    "\n",
    "            # Provjera je li došlo do promjene dana\n",
    "            new_day_start = datetime(current_datetime.year, current_datetime.month, current_datetime.day, 20, 0, 0)\n",
    "            if current_datetime > new_day_start:\n",
    "                print(f\"\\nNovi dan: {current_datetime.date()}\\n\")\n",
    "            \n",
    "        else:\n",
    "            print(f'Error {response.status_code}: {response.text}')\n",
    "\n",
    "    except Exception as e:\n",
    "        print(f'Error: {e}')\n",
    "\n",
    "def parse_datetime(dt_str):\n",
    "    try:\n",
    "        # Attempt to parse the date and time\n",
    "        return datetime.strptime(dt_str, '%Y-%m-%d:%H')\n",
    "    except ValueError:\n",
    "        # Handle the case where parsing fails\n",
    "        return datetime.min\n",
    "\n",
    "# Postavljanje periodičnog zadatka\n",
    "while True:\n",
    "    get_hourly_energy_data()\n",
    "    time.sleep(3600)  # Pauza od 3600 sekundi (1 sat) prije sljedećeg poziva"
   ]
  }
 ],
 "metadata": {
  "kernelspec": {
   "display_name": "Python 3",
   "language": "python",
   "name": "python3"
  },
  "language_info": {
   "codemirror_mode": {
    "name": "ipython",
    "version": 3
   },
   "file_extension": ".py",
   "mimetype": "text/x-python",
   "name": "python",
   "nbconvert_exporter": "python",
   "pygments_lexer": "ipython3",
   "version": "3.11.7"
  }
 },
 "nbformat": 4,
 "nbformat_minor": 2
}
